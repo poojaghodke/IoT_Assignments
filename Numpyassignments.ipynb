{
 "cells": [
  {
   "cell_type": "code",
   "execution_count": 3,
   "id": "a742a8bf-8678-48bf-8d8b-f2f63c8160ad",
   "metadata": {},
   "outputs": [],
   "source": [
    "#size of array"
   ]
  },
  {
   "cell_type": "code",
   "execution_count": 4,
   "id": "16160cc9-f381-4010-8b54-8659f0f780fe",
   "metadata": {},
   "outputs": [],
   "source": [
    "import numpy as np"
   ]
  },
  {
   "cell_type": "code",
   "execution_count": 5,
   "id": "cb220e73-9741-4c3f-9852-480ae3d8fdc5",
   "metadata": {},
   "outputs": [
    {
     "name": "stdout",
     "output_type": "stream",
     "text": [
      "32\n"
     ]
    }
   ],
   "source": [
    "a1=np.array([1,7,13,105])\n",
    "print(a1.nbytes)\n"
   ]
  },
  {
   "cell_type": "code",
   "execution_count": 6,
   "id": "e7473fbd-5f37-4291-9447-663a7803faf2",
   "metadata": {},
   "outputs": [],
   "source": [
    "#program to create element wise comparison"
   ]
  },
  {
   "cell_type": "code",
   "execution_count": 7,
   "id": "7e45f991-d4d4-4147-ad70-f781fddb2d64",
   "metadata": {},
   "outputs": [
    {
     "name": "stdout",
     "output_type": "stream",
     "text": [
      "11-a2 is greater\n",
      "25- a1 is greater\n",
      "30- a1 is greater\n",
      "45- a1 is greater\n",
      "55-a2 is greater\n"
     ]
    }
   ],
   "source": [
    "a1=np.array([10,25,30,45,50])\n",
    "a2=np.array([11,22,25,44,55])\n",
    "\n",
    "for i in range(5):\n",
    "    if a1[i]>a2[i]:\n",
    "        print(f\"{a1[i]}- a1 is greater\")\n",
    "    elif a1[i]==a2[i]:\n",
    "        print(\"both value is equal\")\n",
    "    elif a1[i]<a2[i]:    \n",
    "        print(f\"{a2[i]}-a2 is greater\")\n"
   ]
  },
  {
   "cell_type": "code",
   "execution_count": 8,
   "id": "7cc76b65-f85b-423f-8fd2-c02cffc65e30",
   "metadata": {},
   "outputs": [],
   "source": [
    "#create array of 10 zeroes,10ones,10fives,10 tens,10 twentys & 10 fiftys"
   ]
  },
  {
   "cell_type": "code",
   "execution_count": 9,
   "id": "ca360001-efde-48a0-bf0f-bc065098fae6",
   "metadata": {},
   "outputs": [
    {
     "name": "stdout",
     "output_type": "stream",
     "text": [
      "[0. 0. 0. 0. 0. 0. 0. 0. 0. 0.]\n",
      "[1. 1. 1. 1. 1. 1. 1. 1. 1. 1.]\n",
      "[5. 5. 5. 5. 5. 5. 5. 5. 5. 5.]\n",
      "[10. 10. 10. 10. 10. 10. 10. 10. 10. 10.]\n",
      "[20. 20. 20. 20. 20. 20. 20. 20. 20. 20.]\n",
      "[50. 50. 50. 50. 50. 50. 50. 50. 50. 50.]\n"
     ]
    }
   ],
   "source": [
    "arr1=np.zeros(10)\n",
    "print(arr1)\n",
    "arr1=np.ones(10)\n",
    "print(arr1)\n",
    "arr1=np.ones(10)*5\n",
    "print(arr1)\n",
    "arr1=np.ones(10)*10\n",
    "print(arr1)\n",
    "arr1=np.ones(10)*20\n",
    "print(arr1)\n",
    "arr1=np.ones(10)*50\n",
    "print(arr1)"
   ]
  },
  {
   "cell_type": "code",
   "execution_count": 10,
   "id": "3cff4566-8f3c-4a9d-8c88-43b6179960fb",
   "metadata": {},
   "outputs": [],
   "source": [
    "#create array of integers from 30 to 70"
   ]
  },
  {
   "cell_type": "code",
   "execution_count": 11,
   "id": "8827d324-db5e-4dcc-bc3c-25096d650f86",
   "metadata": {},
   "outputs": [
    {
     "name": "stdout",
     "output_type": "stream",
     "text": [
      "[30 31 32 33 34 35 36 37 38 39 40 41 42 43 44 45 46 47 48 49 50 51 52 53\n",
      " 54 55 56 57 58 59 60 61 62 63 64 65 66 67 68 69 70]\n"
     ]
    }
   ],
   "source": [
    "arr1=np.arange(30,71)\n",
    "print(arr1)"
   ]
  },
  {
   "cell_type": "code",
   "execution_count": 12,
   "id": "ab90cf7b-8c48-4746-bc4b-6048845f8859",
   "metadata": {},
   "outputs": [],
   "source": [
    "#create array of integers from 50 to 95"
   ]
  },
  {
   "cell_type": "code",
   "execution_count": 13,
   "id": "e5575a12-ffe2-46a9-b7e3-7e2f279283b8",
   "metadata": {},
   "outputs": [
    {
     "name": "stdout",
     "output_type": "stream",
     "text": [
      "[50 51 52 53 54 55 56 57 58 59 60 61 62 63 64 65 66 67 68 69 70 71 72 73\n",
      " 74 75 76 77 78 79 80 81 82 83 84 85 86 87 88 89 90 91 92 93 94 95]\n"
     ]
    }
   ],
   "source": [
    "arr1=np.arange(50,96)\n",
    "print(arr1)"
   ]
  },
  {
   "cell_type": "code",
   "execution_count": 14,
   "id": "e6128891-2bf8-4b3c-b1c2-c36578caada8",
   "metadata": {},
   "outputs": [],
   "source": [
    "#create array of even integers from 20 to 80"
   ]
  },
  {
   "cell_type": "code",
   "execution_count": 15,
   "id": "836ba1fd-8f52-461a-a468-3acfa9b7c4fc",
   "metadata": {},
   "outputs": [
    {
     "name": "stdout",
     "output_type": "stream",
     "text": [
      "[20 22 24 26 28 30 32 34 36 38 40 42 44 46 48 50 52 54 56 58 60 62 64 66\n",
      " 68 70 72 74 76 78 80]\n"
     ]
    }
   ],
   "source": [
    "arr1=np.arange(20,81,2)\n",
    "print(arr1)"
   ]
  },
  {
   "cell_type": "code",
   "execution_count": 16,
   "id": "ac94efba-4672-420b-a191-f3e062025504",
   "metadata": {},
   "outputs": [],
   "source": [
    "#create array of odd integers from 20 to 80"
   ]
  },
  {
   "cell_type": "code",
   "execution_count": 17,
   "id": "e073d451-b0b9-4dae-b973-d4a4208ae9de",
   "metadata": {},
   "outputs": [
    {
     "name": "stdout",
     "output_type": "stream",
     "text": [
      "[21 23 25 27 29 31 33 35 37 39 41 43 45 47 49 51 53 55 57 59 61 63 65 67\n",
      " 69 71 73 75 77 79]\n"
     ]
    }
   ],
   "source": [
    "arr1=np.arange(21,80,2)\n",
    "print(arr1)"
   ]
  },
  {
   "cell_type": "code",
   "execution_count": 18,
   "id": "004a0924-f2ab-4ca5-a735-a2c3924c8053",
   "metadata": {},
   "outputs": [],
   "source": [
    "#create array of 15 random integers"
   ]
  },
  {
   "cell_type": "code",
   "execution_count": 19,
   "id": "f34ddde8-72ee-4429-af3c-44f45a659554",
   "metadata": {},
   "outputs": [
    {
     "name": "stdout",
     "output_type": "stream",
     "text": [
      "[18 13 11 35 32 13 11 18 17 15 22 20 25 29 24]\n"
     ]
    }
   ],
   "source": [
    "arr1=np.random.randint(10,40,15)\n",
    "print(arr1)"
   ]
  },
  {
   "cell_type": "code",
   "execution_count": 20,
   "id": "299014d9-9969-4099-82ea-75a60ffa1ef4",
   "metadata": {},
   "outputs": [],
   "source": [
    "#create array of 15 random integers"
   ]
  },
  {
   "cell_type": "code",
   "execution_count": 21,
   "id": "1d21a061-4e69-48b7-a178-916b951dc1c1",
   "metadata": {},
   "outputs": [
    {
     "name": "stdout",
     "output_type": "stream",
     "text": [
      "[47 43 36 48 31 42 31 46 31 48]\n"
     ]
    }
   ],
   "source": [
    "arr1=np.random.randint(30,50,10)\n",
    "print(arr1)"
   ]
  },
  {
   "cell_type": "code",
   "execution_count": 22,
   "id": "4ca6bd79-f105-4c3e-a52f-2a215a71b006",
   "metadata": {},
   "outputs": [],
   "source": [
    "#create array of 20 random integers"
   ]
  },
  {
   "cell_type": "code",
   "execution_count": 23,
   "id": "547fb3c2-b4d5-41c4-bba0-714872f56641",
   "metadata": {},
   "outputs": [
    {
     "name": "stdout",
     "output_type": "stream",
     "text": [
      "[69 77 57 81 83 87 53 63 89 85 86 69 80 71 88 50 69 68 72 63]\n"
     ]
    }
   ],
   "source": [
    "arr1=np.random.randint(50,90,20)\n",
    "print(arr1)"
   ]
  },
  {
   "cell_type": "code",
   "execution_count": 24,
   "id": "ac1ae05d-f2a2-4776-9185-7ac86c28bdf1",
   "metadata": {},
   "outputs": [],
   "source": [
    "#perform +,-,*,/ on two array"
   ]
  },
  {
   "cell_type": "code",
   "execution_count": 25,
   "id": "caec7ff1-8905-42cf-b001-10ff49a85792",
   "metadata": {},
   "outputs": [
    {
     "name": "stdout",
     "output_type": "stream",
     "text": [
      "[ 22  44  66  88 100]\n",
      "[2 4 6 8 0]\n",
      "[ 120  480 1080 1920 2500]\n",
      "[1.2 1.2 1.2 1.2 1. ]\n"
     ]
    }
   ],
   "source": [
    "a1=np.array([10,20,30,40,50])\n",
    "a2=np.array([12,24,36,48,50])\n",
    "print(a1+a2)\n",
    "print(a2-a1)\n",
    "print(a1*a2)\n",
    "print(a2/a1)\n"
   ]
  },
  {
   "cell_type": "code",
   "execution_count": 26,
   "id": "5f7d3c45-b407-4860-904f-d6cfaebed82c",
   "metadata": {},
   "outputs": [],
   "source": [
    "#create a 3x4 matrix with values 10 to 21"
   ]
  },
  {
   "cell_type": "code",
   "execution_count": 27,
   "id": "95e30962-fad1-4ccd-aeaa-21d885f5e8b4",
   "metadata": {},
   "outputs": [
    {
     "name": "stdout",
     "output_type": "stream",
     "text": [
      "[[10 11 12 13]\n",
      " [14 15 16 17]\n",
      " [18 19 20 21]]\n"
     ]
    }
   ],
   "source": [
    "arr1=np.array([10,11,12,13,14,15,16,17,18,19,20,21])\n",
    "arr1=arr1.reshape(3,4)\n",
    "print(arr1)"
   ]
  },
  {
   "cell_type": "code",
   "execution_count": 28,
   "id": "f5dbec11-8312-411d-928d-a7294b750820",
   "metadata": {},
   "outputs": [],
   "source": [
    "#create 3x3 identity matrix"
   ]
  },
  {
   "cell_type": "code",
   "execution_count": 29,
   "id": "dd8ba552-c25f-4ac6-bb7b-6589ac5787a6",
   "metadata": {},
   "outputs": [
    {
     "name": "stdout",
     "output_type": "stream",
     "text": [
      "[[1. 0. 0.]\n",
      " [0. 1. 0.]\n",
      " [0. 0. 1.]]\n"
     ]
    }
   ],
   "source": [
    "arr1=np.zeros(9)\n",
    "#arr1=arr1.reshape(3,3)\n",
    "#for i in range(3):\n",
    "arr1[0]=1\n",
    "arr1[4]=1\n",
    "arr1[8]=1\n",
    "arr1=arr1.reshape(3,3)\n",
    "print(arr1)\n",
    "    "
   ]
  },
  {
   "cell_type": "code",
   "execution_count": 30,
   "id": "75180616-b0ef-4dec-8911-699385a33b4b",
   "metadata": {},
   "outputs": [],
   "source": [
    "#to find no. of rows & coloumns in a given matrix"
   ]
  },
  {
   "cell_type": "code",
   "execution_count": 31,
   "id": "78b72f35-e39f-4a81-b108-e2b164ace118",
   "metadata": {},
   "outputs": [
    {
     "name": "stdout",
     "output_type": "stream",
     "text": [
      "(3, 2)\n",
      "rows:2\n",
      "coloumns:3\n"
     ]
    }
   ],
   "source": [
    "arr1=np.array([10,20,30,40,50,60])\n",
    "arr1=arr1.reshape(3,2)\n",
    "print(arr1.shape)\n",
    "\n",
    "arr1=np.array([[10,20,30],[40,50,60]])\n",
    "dimensions=arr1.shape\n",
    "rows,coloumns=dimensions\n",
    "print(f\"rows:{rows}\")\n",
    "print(f\"coloumns:{coloumns}\")    \n",
    "\n"
   ]
  },
  {
   "cell_type": "code",
   "execution_count": 32,
   "id": "74b71259-a255-4340-a95d-722205072498",
   "metadata": {},
   "outputs": [],
   "source": [
    "#create 5x5 matrix with elements on main diagonal "
   ]
  },
  {
   "cell_type": "code",
   "execution_count": 48,
   "id": "b26e9aa9-d0d4-4ac0-8088-f4c30598d455",
   "metadata": {},
   "outputs": [
    {
     "name": "stdout",
     "output_type": "stream",
     "text": [
      "[[1 0 0 0 0]\n",
      " [0 2 0 0 0]\n",
      " [0 0 3 0 0]\n",
      " [0 0 0 4 0]\n",
      " [0 0 0 0 5]]\n"
     ]
    }
   ],
   "source": [
    "arr1=np.diag([1,2,3,4,5])\n",
    "print(arr1)        \n",
    "        "
   ]
  },
  {
   "cell_type": "code",
   "execution_count": 49,
   "id": "7e74d441-efa8-4b25-9f79-318a3f495eeb",
   "metadata": {},
   "outputs": [],
   "source": [
    "#create 3x3x3 array with arbitary values"
   ]
  },
  {
   "cell_type": "code",
   "execution_count": 50,
   "id": "fa9819c4-bae8-41d9-9814-48d3b5db8a92",
   "metadata": {},
   "outputs": [
    {
     "name": "stdout",
     "output_type": "stream",
     "text": [
      "[[[0.31839156 0.11556723 0.30160624]\n",
      "  [0.93466937 0.36950451 0.68523262]\n",
      "  [0.7723562  0.48005506 0.5686088 ]]\n",
      "\n",
      " [[0.97673534 0.87042251 0.48536409]\n",
      "  [0.22818597 0.26164372 0.83734822]\n",
      "  [0.24431348 0.77154079 0.02825349]]\n",
      "\n",
      " [[0.16008333 0.88066041 0.82164129]\n",
      "  [0.07263449 0.87813161 0.81820958]\n",
      "  [0.34687038 0.66302762 0.95157682]]]\n"
     ]
    }
   ],
   "source": [
    "arr1=np.random.random((3,3,3))\n",
    "print(arr1)"
   ]
  },
  {
   "cell_type": "code",
   "execution_count": 51,
   "id": "a835a31d-5cd6-4e2e-9a22-07e026934a1a",
   "metadata": {},
   "outputs": [],
   "source": [
    "#create 2x3x4 array with arbitary values"
   ]
  },
  {
   "cell_type": "code",
   "execution_count": 52,
   "id": "a40850c0-44c6-41e4-b01b-33dd7d8215fd",
   "metadata": {},
   "outputs": [
    {
     "name": "stdout",
     "output_type": "stream",
     "text": [
      "[[[0.25062314 0.54577754 0.23767377 0.26635947]\n",
      "  [0.10963698 0.19172919 0.19128789 0.39061738]\n",
      "  [0.63648803 0.08164887 0.71362087 0.92608052]]\n",
      "\n",
      " [[0.60371059 0.11401348 0.11587844 0.08711317]\n",
      "  [0.52981496 0.54725144 0.7176825  0.04281345]\n",
      "  [0.91142054 0.22049136 0.0500494  0.88992986]]]\n"
     ]
    }
   ],
   "source": [
    "arr1=np.random.random((2,3,4))\n",
    "print(arr1)"
   ]
  },
  {
   "cell_type": "code",
   "execution_count": 53,
   "id": "1f792291-168c-4807-b1fb-974bdbadb7f3",
   "metadata": {},
   "outputs": [],
   "source": [
    "#convert a list of numeric values into a one-dimensional NumPy array"
   ]
  },
  {
   "cell_type": "code",
   "execution_count": 57,
   "id": "aef650c9-20d6-4d76-ab4b-050d58313bf2",
   "metadata": {},
   "outputs": [
    {
     "name": "stdout",
     "output_type": "stream",
     "text": [
      "original list: [11, 22, 33, 44, 55, 66]\n",
      "1D-array: [11 22 33 44 55 66]\n"
     ]
    }
   ],
   "source": [
    "l1=[11,22,33,44,55,66]\n",
    "print(\"original list:\",l1)\n",
    "a1=np.array(l1)\n",
    "print(\"1D-array:\",a1)"
   ]
  },
  {
   "cell_type": "code",
   "execution_count": 58,
   "id": "40c52806-94d7-4f9b-ba77-1c998b06798e",
   "metadata": {},
   "outputs": [],
   "source": [
    "#create a 3x3 matrix with values ranging from 2to 10"
   ]
  },
  {
   "cell_type": "code",
   "execution_count": 60,
   "id": "fbde0f90-913b-4070-8eca-364e5eaff105",
   "metadata": {},
   "outputs": [
    {
     "name": "stdout",
     "output_type": "stream",
     "text": [
      "[[ 2  3  4]\n",
      " [ 5  6  7]\n",
      " [ 8  9 10]]\n"
     ]
    }
   ],
   "source": [
    "arr1=np.arange(2,11)\n",
    "arr1=arr1.reshape(3,3)\n",
    "print(arr1)"
   ]
  },
  {
   "cell_type": "code",
   "execution_count": 61,
   "id": "f72289e5-0c99-4cf7-ae9c-d4ca7764ea8a",
   "metadata": {},
   "outputs": [],
   "source": [
    "#create an array with values ranging from 12 to 38"
   ]
  },
  {
   "cell_type": "code",
   "execution_count": 63,
   "id": "d6dcd131-4fce-4e97-8489-836ad0114748",
   "metadata": {},
   "outputs": [
    {
     "name": "stdout",
     "output_type": "stream",
     "text": [
      "array: [12 13 14 15 16 17 18 19 20 21 22 23 24 25 26 27 28 29 30 31 32 33 34 35\n",
      " 36 37]\n"
     ]
    }
   ],
   "source": [
    "arr1=np.arange(12,38)\n",
    "print(\"array:\",arr1)"
   ]
  },
  {
   "cell_type": "code",
   "execution_count": 64,
   "id": "19e2df3b-c764-4ea0-a80d-933e5981a38f",
   "metadata": {},
   "outputs": [],
   "source": [
    "#reverse an array (the first element becomes the last)"
   ]
  },
  {
   "cell_type": "code",
   "execution_count": 65,
   "id": "e47d5985-bd52-44ab-9226-31ee9319948e",
   "metadata": {},
   "outputs": [
    {
     "name": "stdout",
     "output_type": "stream",
     "text": [
      "[37 36 35 34 33 32 31 30 29 28 27 26 25 24 23 22 21 20 19 18 17 16 15 14\n",
      " 13 12]\n"
     ]
    }
   ],
   "source": [
    "arr2 = arr1[::-1]//reverse array\n",
    "print(arr2)\n"
   ]
  },
  {
   "cell_type": "code",
   "execution_count": 66,
   "id": "7591e45c-78a4-4695-b449-3aa394f1f95d",
   "metadata": {},
   "outputs": [],
   "source": [
    "#convert an data type into to a floating type"
   ]
  },
  {
   "cell_type": "code",
   "execution_count": 74,
   "id": "d2ec8cb3-475d-4707-b1b1-f0468a627320",
   "metadata": {},
   "outputs": [
    {
     "name": "stdout",
     "output_type": "stream",
     "text": [
      "Dtype = float64\n"
     ]
    }
   ],
   "source": [
    "num=2\n",
    "num=np.float64(num)\n",
    "print(f\"Dtype = {num.dtype}\")"
   ]
  },
  {
   "cell_type": "code",
   "execution_count": 75,
   "id": "c5012907-05ec-42df-91d7-d6d40d6fe0d0",
   "metadata": {},
   "outputs": [],
   "source": [
    "#to convert a list array"
   ]
  },
  {
   "cell_type": "code",
   "execution_count": 77,
   "id": "f02fa61c-4a7f-4335-894f-0585b1afdfb3",
   "metadata": {},
   "outputs": [
    {
     "name": "stdout",
     "output_type": "stream",
     "text": [
      "array: [12 13 14 15 16 17 18 19 20 21 22 23 24 25 26 27 28 29 30 31 32 33 34 35\n",
      " 36 37]\n"
     ]
    }
   ],
   "source": [
    "l1=[1,2,3,4,5,6]\n",
    "arr1=np.array(arr1)\n",
    "print(\"array:\",arr1)"
   ]
  },
  {
   "cell_type": "code",
   "execution_count": 78,
   "id": "51f636d4-e827-4322-ba20-b7ee1c055af2",
   "metadata": {},
   "outputs": [],
   "source": [
    "#program to get the element-wise remainder of an array of division"
   ]
  },
  {
   "cell_type": "code",
   "execution_count": 80,
   "id": "3ea7fb74-9b3a-4a72-8da3-22250c19a2ba",
   "metadata": {},
   "outputs": [
    {
     "name": "stdout",
     "output_type": "stream",
     "text": [
      "[1. 2. 3. 4. 5.]\n"
     ]
    }
   ],
   "source": [
    "arr1=np.array([10,20,30,40,50])\n",
    "print(arr1/10)"
   ]
  },
  {
   "cell_type": "code",
   "execution_count": 79,
   "id": "07a85d20-d76d-49d5-8071-00d9624ed4c1",
   "metadata": {},
   "outputs": [],
   "source": [
    "#program to get the element-wise remainder of an array of numbers from 20 to 50 which are divisible by 3"
   ]
  },
  {
   "cell_type": "code",
   "execution_count": 81,
   "id": "755f9aa0-cf08-4e8a-bd9e-e1a195d15c72",
   "metadata": {},
   "outputs": [
    {
     "name": "stdout",
     "output_type": "stream",
     "text": [
      "[ 6.66666667  7.          7.33333333  7.66666667  8.          8.33333333\n",
      "  8.66666667  9.          9.33333333  9.66666667 10.         10.33333333\n",
      " 10.66666667 11.         11.33333333 11.66666667 12.         12.33333333\n",
      " 12.66666667 13.         13.33333333 13.66666667 14.         14.33333333\n",
      " 14.66666667 15.         15.33333333 15.66666667 16.         16.33333333\n",
      " 16.66666667]\n"
     ]
    }
   ],
   "source": [
    "arr1=np.arange(20,51)\n",
    "print(arr1/3)"
   ]
  },
  {
   "cell_type": "code",
   "execution_count": null,
   "id": "deb2cfc1-047c-4711-b80e-5ac7482a3a01",
   "metadata": {},
   "outputs": [],
   "source": []
  }
 ],
 "metadata": {
  "kernelspec": {
   "display_name": "Python 3 (ipykernel)",
   "language": "python",
   "name": "python3"
  },
  "language_info": {
   "codemirror_mode": {
    "name": "ipython",
    "version": 3
   },
   "file_extension": ".py",
   "mimetype": "text/x-python",
   "name": "python",
   "nbconvert_exporter": "python",
   "pygments_lexer": "ipython3",
   "version": "3.10.12"
  }
 },
 "nbformat": 4,
 "nbformat_minor": 5
}
